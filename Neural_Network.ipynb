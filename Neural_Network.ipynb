{
 "cells": [
  {
   "cell_type": "code",
   "execution_count": 105,
   "id": "98144abc",
   "metadata": {},
   "outputs": [],
   "source": [
    "import torch\n",
    "import torch.nn as nn\n",
    "import torch.nn.functional as F"
   ]
  },
  {
   "cell_type": "code",
   "execution_count": 106,
   "id": "72669f59",
   "metadata": {},
   "outputs": [],
   "source": [
    "#create a Model class that is inherits neural network nn.Module\n",
    "class Model(nn.Module):\n",
    "    #input layer with 4 features of flower from our datasets --> \n",
    "    #choose to hidden Layer1(H1)(number of neurons in it)--> H2(n)--> \n",
    "    #output (3classes of flower)\n",
    "    def __init__(self, in_features=4, h1=8,h2=9,OutputLayers=3):\n",
    "        super().__init__() #instantiate our nn.module\n",
    "        #fully connect \n",
    "        self.fc1=nn.Linear(in_features,h1)\n",
    "        self.fc2=nn.Linear(h1,h2)\n",
    "        self.out=nn.Linear(h2,OutputLayers)\n",
    "        \n",
    "    def forward(self,x):\n",
    "        #rectified linear unit\n",
    "        #start to layer one then move to layer 2\n",
    "        x = F.relu(self.fc1(x))\n",
    "        x = F.relu(self.fc2(x))\n",
    "        x = self.out(x)\n",
    "        \n",
    "        return x\n",
    "        \n",
    "        "
   ]
  },
  {
   "cell_type": "code",
   "execution_count": 107,
   "id": "a2c81108",
   "metadata": {},
   "outputs": [],
   "source": [
    "#pick a manual seed for randomization\n",
    "torch.manual_seed(32)\n",
    "# Create an instance of model\n",
    "model = Model()\n"
   ]
  },
  {
   "cell_type": "code",
   "execution_count": 108,
   "id": "ef7d7b10",
   "metadata": {},
   "outputs": [],
   "source": [
    "import numpy as np\n",
    "import pandas as pd\n",
    "import matplotlib.pyplot as plt\n",
    "%matplotlib inline"
   ]
  },
  {
   "cell_type": "code",
   "execution_count": 109,
   "id": "b821b41f-b469-46e5-b8ae-dd3c5e6a9804",
   "metadata": {},
   "outputs": [],
   "source": [
    "url='https://gist.githubusercontent.com/netj/8836201/raw/6f9306ad21398ea43cba4f7d537619d0e07d5ae3/iris.csv'\n",
    "#data frame\n",
    "my_df=pd.read_csv(url)"
   ]
  },
  {
   "cell_type": "code",
   "execution_count": 110,
   "id": "4ccf7fad-bdd5-4439-9380-45141667e0e7",
   "metadata": {},
   "outputs": [
    {
     "data": {
      "text/html": [
       "<div>\n",
       "<style scoped>\n",
       "    .dataframe tbody tr th:only-of-type {\n",
       "        vertical-align: middle;\n",
       "    }\n",
       "\n",
       "    .dataframe tbody tr th {\n",
       "        vertical-align: top;\n",
       "    }\n",
       "\n",
       "    .dataframe thead th {\n",
       "        text-align: right;\n",
       "    }\n",
       "</style>\n",
       "<table border=\"1\" class=\"dataframe\">\n",
       "  <thead>\n",
       "    <tr style=\"text-align: right;\">\n",
       "      <th></th>\n",
       "      <th>sepal.length</th>\n",
       "      <th>sepal.width</th>\n",
       "      <th>petal.length</th>\n",
       "      <th>petal.width</th>\n",
       "      <th>variety</th>\n",
       "    </tr>\n",
       "  </thead>\n",
       "  <tbody>\n",
       "    <tr>\n",
       "      <th>145</th>\n",
       "      <td>6.7</td>\n",
       "      <td>3.0</td>\n",
       "      <td>5.2</td>\n",
       "      <td>2.3</td>\n",
       "      <td>Virginica</td>\n",
       "    </tr>\n",
       "    <tr>\n",
       "      <th>146</th>\n",
       "      <td>6.3</td>\n",
       "      <td>2.5</td>\n",
       "      <td>5.0</td>\n",
       "      <td>1.9</td>\n",
       "      <td>Virginica</td>\n",
       "    </tr>\n",
       "    <tr>\n",
       "      <th>147</th>\n",
       "      <td>6.5</td>\n",
       "      <td>3.0</td>\n",
       "      <td>5.2</td>\n",
       "      <td>2.0</td>\n",
       "      <td>Virginica</td>\n",
       "    </tr>\n",
       "    <tr>\n",
       "      <th>148</th>\n",
       "      <td>6.2</td>\n",
       "      <td>3.4</td>\n",
       "      <td>5.4</td>\n",
       "      <td>2.3</td>\n",
       "      <td>Virginica</td>\n",
       "    </tr>\n",
       "    <tr>\n",
       "      <th>149</th>\n",
       "      <td>5.9</td>\n",
       "      <td>3.0</td>\n",
       "      <td>5.1</td>\n",
       "      <td>1.8</td>\n",
       "      <td>Virginica</td>\n",
       "    </tr>\n",
       "  </tbody>\n",
       "</table>\n",
       "</div>"
      ],
      "text/plain": [
       "     sepal.length  sepal.width  petal.length  petal.width    variety\n",
       "145           6.7          3.0           5.2          2.3  Virginica\n",
       "146           6.3          2.5           5.0          1.9  Virginica\n",
       "147           6.5          3.0           5.2          2.0  Virginica\n",
       "148           6.2          3.4           5.4          2.3  Virginica\n",
       "149           5.9          3.0           5.1          1.8  Virginica"
      ]
     },
     "execution_count": 110,
     "metadata": {},
     "output_type": "execute_result"
    }
   ],
   "source": [
    "my_df.tail()"
   ]
  },
  {
   "cell_type": "code",
   "execution_count": 111,
   "id": "272f052e-e32e-4f24-a5b7-8f7f78c7a357",
   "metadata": {},
   "outputs": [
    {
     "data": {
      "text/html": [
       "<div>\n",
       "<style scoped>\n",
       "    .dataframe tbody tr th:only-of-type {\n",
       "        vertical-align: middle;\n",
       "    }\n",
       "\n",
       "    .dataframe tbody tr th {\n",
       "        vertical-align: top;\n",
       "    }\n",
       "\n",
       "    .dataframe thead th {\n",
       "        text-align: right;\n",
       "    }\n",
       "</style>\n",
       "<table border=\"1\" class=\"dataframe\">\n",
       "  <thead>\n",
       "    <tr style=\"text-align: right;\">\n",
       "      <th></th>\n",
       "      <th>sepal.length</th>\n",
       "      <th>sepal.width</th>\n",
       "      <th>petal.length</th>\n",
       "      <th>petal.width</th>\n",
       "      <th>variety</th>\n",
       "    </tr>\n",
       "  </thead>\n",
       "  <tbody>\n",
       "    <tr>\n",
       "      <th>0</th>\n",
       "      <td>5.1</td>\n",
       "      <td>3.5</td>\n",
       "      <td>1.4</td>\n",
       "      <td>0.2</td>\n",
       "      <td>Setosa</td>\n",
       "    </tr>\n",
       "    <tr>\n",
       "      <th>1</th>\n",
       "      <td>4.9</td>\n",
       "      <td>3.0</td>\n",
       "      <td>1.4</td>\n",
       "      <td>0.2</td>\n",
       "      <td>Setosa</td>\n",
       "    </tr>\n",
       "    <tr>\n",
       "      <th>2</th>\n",
       "      <td>4.7</td>\n",
       "      <td>3.2</td>\n",
       "      <td>1.3</td>\n",
       "      <td>0.2</td>\n",
       "      <td>Setosa</td>\n",
       "    </tr>\n",
       "    <tr>\n",
       "      <th>3</th>\n",
       "      <td>4.6</td>\n",
       "      <td>3.1</td>\n",
       "      <td>1.5</td>\n",
       "      <td>0.2</td>\n",
       "      <td>Setosa</td>\n",
       "    </tr>\n",
       "    <tr>\n",
       "      <th>4</th>\n",
       "      <td>5.0</td>\n",
       "      <td>3.6</td>\n",
       "      <td>1.4</td>\n",
       "      <td>0.2</td>\n",
       "      <td>Setosa</td>\n",
       "    </tr>\n",
       "  </tbody>\n",
       "</table>\n",
       "</div>"
      ],
      "text/plain": [
       "   sepal.length  sepal.width  petal.length  petal.width variety\n",
       "0           5.1          3.5           1.4          0.2  Setosa\n",
       "1           4.9          3.0           1.4          0.2  Setosa\n",
       "2           4.7          3.2           1.3          0.2  Setosa\n",
       "3           4.6          3.1           1.5          0.2  Setosa\n",
       "4           5.0          3.6           1.4          0.2  Setosa"
      ]
     },
     "execution_count": 111,
     "metadata": {},
     "output_type": "execute_result"
    }
   ],
   "source": [
    "my_df.head()"
   ]
  },
  {
   "cell_type": "code",
   "execution_count": 112,
   "id": "3fd5b3fe-bc60-4716-a474-013af7361fdd",
   "metadata": {},
   "outputs": [
    {
     "name": "stderr",
     "output_type": "stream",
     "text": [
      "/var/folders/dg/9_6nhvf95kzgr9q1q5ptq6cw0000gn/T/ipykernel_72264/1234973239.py:6: FutureWarning: Downcasting behavior in `replace` is deprecated and will be removed in a future version. To retain the old behavior, explicitly call `result.infer_objects(copy=False)`. To opt-in to the future behavior, set `pd.set_option('future.no_silent_downcasting', True)`\n",
      "  my_df['variety'] = my_df['variety'].replace({'Setosa': 0, 'Versicolor': 1, 'Virginica': 2})\n"
     ]
    },
    {
     "data": {
      "text/html": [
       "<div>\n",
       "<style scoped>\n",
       "    .dataframe tbody tr th:only-of-type {\n",
       "        vertical-align: middle;\n",
       "    }\n",
       "\n",
       "    .dataframe tbody tr th {\n",
       "        vertical-align: top;\n",
       "    }\n",
       "\n",
       "    .dataframe thead th {\n",
       "        text-align: right;\n",
       "    }\n",
       "</style>\n",
       "<table border=\"1\" class=\"dataframe\">\n",
       "  <thead>\n",
       "    <tr style=\"text-align: right;\">\n",
       "      <th></th>\n",
       "      <th>sepal.length</th>\n",
       "      <th>sepal.width</th>\n",
       "      <th>petal.length</th>\n",
       "      <th>petal.width</th>\n",
       "      <th>variety</th>\n",
       "    </tr>\n",
       "  </thead>\n",
       "  <tbody>\n",
       "    <tr>\n",
       "      <th>0</th>\n",
       "      <td>5.1</td>\n",
       "      <td>3.5</td>\n",
       "      <td>1.4</td>\n",
       "      <td>0.2</td>\n",
       "      <td>0</td>\n",
       "    </tr>\n",
       "    <tr>\n",
       "      <th>1</th>\n",
       "      <td>4.9</td>\n",
       "      <td>3.0</td>\n",
       "      <td>1.4</td>\n",
       "      <td>0.2</td>\n",
       "      <td>0</td>\n",
       "    </tr>\n",
       "    <tr>\n",
       "      <th>2</th>\n",
       "      <td>4.7</td>\n",
       "      <td>3.2</td>\n",
       "      <td>1.3</td>\n",
       "      <td>0.2</td>\n",
       "      <td>0</td>\n",
       "    </tr>\n",
       "    <tr>\n",
       "      <th>3</th>\n",
       "      <td>4.6</td>\n",
       "      <td>3.1</td>\n",
       "      <td>1.5</td>\n",
       "      <td>0.2</td>\n",
       "      <td>0</td>\n",
       "    </tr>\n",
       "    <tr>\n",
       "      <th>4</th>\n",
       "      <td>5.0</td>\n",
       "      <td>3.6</td>\n",
       "      <td>1.4</td>\n",
       "      <td>0.2</td>\n",
       "      <td>0</td>\n",
       "    </tr>\n",
       "    <tr>\n",
       "      <th>...</th>\n",
       "      <td>...</td>\n",
       "      <td>...</td>\n",
       "      <td>...</td>\n",
       "      <td>...</td>\n",
       "      <td>...</td>\n",
       "    </tr>\n",
       "    <tr>\n",
       "      <th>145</th>\n",
       "      <td>6.7</td>\n",
       "      <td>3.0</td>\n",
       "      <td>5.2</td>\n",
       "      <td>2.3</td>\n",
       "      <td>2</td>\n",
       "    </tr>\n",
       "    <tr>\n",
       "      <th>146</th>\n",
       "      <td>6.3</td>\n",
       "      <td>2.5</td>\n",
       "      <td>5.0</td>\n",
       "      <td>1.9</td>\n",
       "      <td>2</td>\n",
       "    </tr>\n",
       "    <tr>\n",
       "      <th>147</th>\n",
       "      <td>6.5</td>\n",
       "      <td>3.0</td>\n",
       "      <td>5.2</td>\n",
       "      <td>2.0</td>\n",
       "      <td>2</td>\n",
       "    </tr>\n",
       "    <tr>\n",
       "      <th>148</th>\n",
       "      <td>6.2</td>\n",
       "      <td>3.4</td>\n",
       "      <td>5.4</td>\n",
       "      <td>2.3</td>\n",
       "      <td>2</td>\n",
       "    </tr>\n",
       "    <tr>\n",
       "      <th>149</th>\n",
       "      <td>5.9</td>\n",
       "      <td>3.0</td>\n",
       "      <td>5.1</td>\n",
       "      <td>1.8</td>\n",
       "      <td>2</td>\n",
       "    </tr>\n",
       "  </tbody>\n",
       "</table>\n",
       "<p>150 rows × 5 columns</p>\n",
       "</div>"
      ],
      "text/plain": [
       "     sepal.length  sepal.width  petal.length  petal.width  variety\n",
       "0             5.1          3.5           1.4          0.2        0\n",
       "1             4.9          3.0           1.4          0.2        0\n",
       "2             4.7          3.2           1.3          0.2        0\n",
       "3             4.6          3.1           1.5          0.2        0\n",
       "4             5.0          3.6           1.4          0.2        0\n",
       "..            ...          ...           ...          ...      ...\n",
       "145           6.7          3.0           5.2          2.3        2\n",
       "146           6.3          2.5           5.0          1.9        2\n",
       "147           6.5          3.0           5.2          2.0        2\n",
       "148           6.2          3.4           5.4          2.3        2\n",
       "149           5.9          3.0           5.1          1.8        2\n",
       "\n",
       "[150 rows x 5 columns]"
      ]
     },
     "execution_count": 112,
     "metadata": {},
     "output_type": "execute_result"
    }
   ],
   "source": [
    "#change the last column from string to int\n",
    "#my_df['variety']=my_df['variety'].replace('Setos',0.0)\n",
    "#my_df['variety']=my_df['variety'].replace('Versicolor',1.0)\n",
    "#my_df['variety']=my_df['variety'].replace('Virginica',2.0)\n",
    "\n",
    "my_df['variety'] = my_df['variety'].replace({'Setosa': 0, 'Versicolor': 1, 'Virginica': 2})\n",
    "# Handle future downcasting\n",
    "my_df = my_df.infer_objects(copy=False)\n",
    "# Split features and labels\n",
    "X = my_df.drop('variety', axis=1)\n",
    "#train test and split set X,Y\n",
    "my_df"
   ]
  },
  {
   "cell_type": "code",
   "execution_count": 113,
   "id": "a5dde7fe-be49-49b8-9a49-0078e6e810d2",
   "metadata": {},
   "outputs": [],
   "source": [
    "#Convert its datatype to int64 (64-bit integer)\n",
    "y = my_df['variety'].astype(np.int64)\n"
   ]
  },
  {
   "cell_type": "code",
   "execution_count": 114,
   "id": "ddf97e8f-03eb-4610-af5a-abb8a918813a",
   "metadata": {},
   "outputs": [],
   "source": [
    "#convert these to numpy arrays\n",
    "X= X.values\n",
    "y= y.values"
   ]
  },
  {
   "cell_type": "code",
   "execution_count": 115,
   "id": "81d86372-179a-4964-84cf-bf175b24918f",
   "metadata": {},
   "outputs": [],
   "source": [
    "from sklearn.model_selection import train_test_split\n",
    "from sklearn.preprocessing import LabelEncoder"
   ]
  },
  {
   "cell_type": "code",
   "execution_count": 116,
   "id": "1996cbd4-9d11-4854-a27e-8b97a1eca00f",
   "metadata": {},
   "outputs": [],
   "source": [
    "\n",
    "#train test split testsize 20%, Train size is 80%\n",
    "X_train,X_test,y_train,y_test = train_test_split(X,y,test_size=0.2, random_state=32)"
   ]
  },
  {
   "cell_type": "code",
   "execution_count": 117,
   "id": "18d583a8-caec-480b-ae21-53d05baab7c2",
   "metadata": {},
   "outputs": [],
   "source": [
    "#convert X features to float tensors\n",
    "X_train = torch.FloatTensor(X_train)\n",
    "X_test = torch.FloatTensor(X_test)\n"
   ]
  },
  {
   "cell_type": "code",
   "execution_count": 118,
   "id": "7947fee7-dea9-4b92-ad9d-9ccfb9c299ad",
   "metadata": {},
   "outputs": [],
   "source": [
    "#convert Y features to Long tensors\n",
    "y_train = torch.LongTensor(y_train)\n",
    "y_test = torch.LongTensor(y_test)"
   ]
  },
  {
   "cell_type": "code",
   "execution_count": 119,
   "id": "5557ba00-9bee-4880-bc70-a479bbe72bdb",
   "metadata": {},
   "outputs": [],
   "source": [
    "#set the criterion of model to measure the error, how far off the predictions are from the data\n",
    "criterion=nn.CrossEntropyLoss()\n",
    "#choose Adam Optimizer, lr = learning rate (if error doesn't go down after a bunch of iterations (epochs), lower learning rate)\n",
    "optimizer = torch.optim.Adam(model.parameters(),lr=0.01)"
   ]
  },
  {
   "cell_type": "code",
   "execution_count": 120,
   "id": "a672edda-ba2a-4553-8da0-ee3d1014b440",
   "metadata": {},
   "outputs": [
    {
     "name": "stdout",
     "output_type": "stream",
     "text": [
      "epochs:0 and loss: 1.1699321269989014\n",
      "epochs:10 and loss: 0.9570867419242859\n",
      "epochs:20 and loss: 0.7980871796607971\n",
      "epochs:30 and loss: 0.6327950358390808\n",
      "epochs:40 and loss: 0.4386173486709595\n",
      "epochs:50 and loss: 0.29045313596725464\n",
      "epochs:60 and loss: 0.1778070032596588\n",
      "epochs:70 and loss: 0.11584119498729706\n",
      "epochs:80 and loss: 0.0893637090921402\n",
      "epochs:90 and loss: 0.07752912491559982\n"
     ]
    }
   ],
   "source": [
    "# Train our model\n",
    "# Epochs?(one run thru all the training data in our network), current we set spin 100 time\n",
    "epochs = 100\n",
    "losses = []\n",
    "for i in range(epochs):\n",
    "    # Go forward and get a prediction\n",
    "    y_pred = model.forward(X_train) #get predicted results\n",
    "\n",
    "    # We want to measure the loss/error, it will be high at first\n",
    "    loss = criterion(y_pred, y_train) #predicted values vs the y_train\n",
    "\n",
    "    #keep Track of our losses\n",
    "    losses.append(loss.detach().numpy())\n",
    "    #print every 10 epochs\n",
    "    if i%10==0:\n",
    "        print(f'epochs:{i} and loss: {loss}')\n",
    "\n",
    "    #do some back propogation by take the error rate of forward propagation and feed it back\n",
    "    #thru the network to fine tune the weights\n",
    "    optimizer.zero_grad()\n",
    "    loss.backward()\n",
    "    optimizer.step()"
   ]
  },
  {
   "cell_type": "code",
   "execution_count": 121,
   "id": "5d1aef99-6efa-47f4-a119-de8ff36929ed",
   "metadata": {},
   "outputs": [
    {
     "data": {
      "text/plain": [
       "Text(0.5, 0, 'Epoch')"
      ]
     },
     "execution_count": 121,
     "metadata": {},
     "output_type": "execute_result"
    },
    {
     "data": {
      "image/png": "[encoded data removed]",
      "text/plain": [
       "<Figure size 640x480 with 1 Axes>"
      ]
     },
     "metadata": {},
     "output_type": "display_data"
    }
   ],
   "source": [
    "#graph the plot\n",
    "plt.plot(range(epochs), losses)\n",
    "plt.ylabel(\"Validation Loss/error\")\n",
    "plt.xlabel(\"Epoch\")"
   ]
  },
  {
   "cell_type": "code",
   "execution_count": 122,
   "id": "fa73d062-5583-4925-bd5d-de5aed909af6",
   "metadata": {},
   "outputs": [],
   "source": [
    "# Evaluate Model on Test Data Set (Validate model on test set)\n",
    "with torch.no_grad(): #turn off back propogation\n",
    "    y_eval = model.forward(X_test) # X_test are features from out test set, y_eval wil be predictions\n",
    "    loss = criterion(y_eval,y_test) # Find the loss or error"
   ]
  },
  {
   "cell_type": "code",
   "execution_count": 123,
   "id": "359229c3-0447-4057-8456-180ec71e08a3",
   "metadata": {},
   "outputs": [
    {
     "data": {
      "text/plain": [
       "tensor(0.0538)"
      ]
     },
     "execution_count": 123,
     "metadata": {},
     "output_type": "execute_result"
    }
   ],
   "source": [
    "loss\n"
   ]
  },
  {
   "cell_type": "code",
   "execution_count": 124,
   "id": "1f26a9db-9912-4096-ba04-8f211337d2d4",
   "metadata": {},
   "outputs": [
    {
     "name": "stdout",
     "output_type": "stream",
     "text": [
      "1.) tensor([-3.3646,  3.9392,  0.3720]) \tVersicolor \t 1\n",
      "2.) tensor([  7.5572,   1.1015, -11.3347]) \tSetsosa \t 0\n",
      "3.) tensor([  6.5957,   1.5027, -10.4091]) \tSetsosa \t 0\n",
      "4.) tensor([-3.3331,  4.2594,  0.0623]) \tVersicolor \t 1\n",
      "5.) tensor([-7.3782,  2.8087,  5.1605]) \tVirginica \t 2\n",
      "6.) tensor([-7.3760,  3.9013,  4.2826]) \tVirginica \t 2\n",
      "7.) tensor([  6.1971,   1.6470, -10.0047]) \tSetsosa \t 0\n",
      "8.) tensor([  6.6383,   1.4348, -10.4031]) \tSetsosa \t 0\n",
      "9.) tensor([-2.6753,  4.3091, -0.6392]) \tVersicolor \t 1\n",
      "10.) tensor([  7.1875,   1.3812, -11.0965]) \tSetsosa \t 0\n",
      "11.) tensor([-3.8318,  4.4027,  0.5246]) \tVersicolor \t 1\n",
      "12.) tensor([-8.6807,  1.9994,  6.8923]) \tVirginica \t 2\n",
      "13.) tensor([-2.0678,  3.8200, -0.7571]) \tVersicolor \t 1\n",
      "14.) tensor([-1.0768,  4.3741, -2.2838]) \tVersicolor \t 1\n",
      "15.) tensor([-7.4965,  2.6207,  5.3287]) \tVirginica \t 2\n",
      "16.) tensor([-8.6136,  1.5508,  7.1186]) \tVirginica \t 2\n",
      "17.) tensor([-3.7761,  3.6462,  0.9487]) \tVersicolor \t 1\n",
      "18.) tensor([-6.7608,  2.7754,  4.5281]) \tVirginica \t 2\n",
      "19.) tensor([-1.7048,  4.1980, -1.4670]) \tVersicolor \t 1\n",
      "20.) tensor([  7.7757,   1.3740, -11.8864]) \tSetsosa \t 0\n",
      "21.) tensor([  6.8811,   1.5887, -10.8763]) \tSetsosa \t 0\n",
      "22.) tensor([-9.4350,  2.7012,  7.2406]) \tVirginica \t 2\n",
      "23.) tensor([-5.7694,  3.0131,  3.3490]) \tVirginica \t 2\n",
      "24.) tensor([  6.7561,   1.3467, -10.4799]) \tSetsosa \t 0\n",
      "25.) tensor([  6.7959,   1.0626, -10.2672]) \tSetsosa \t 0\n",
      "26.) tensor([-1.4388,  4.3212, -1.8930]) \tVersicolor \t 1\n",
      "27.) tensor([  7.8687,   1.2718, -11.9165]) \tSetsosa \t 0\n",
      "28.) tensor([-9.8075,  1.7086,  8.1659]) \tVirginica \t 2\n",
      "29.) tensor([  7.3769,   1.3871, -11.3586]) \tSetsosa \t 0\n",
      "30.) tensor([  7.1775,   1.3937, -11.0947]) \tSetsosa \t 0\n",
      "We got the result 30 predicted correct!\n"
     ]
    }
   ],
   "source": [
    "correct = 0\n",
    "with torch.no_grad():\n",
    "    for i, data in enumerate(X_test):\n",
    "        y_val= model.forward(data)\n",
    "\n",
    "        if y_test[i]==0:\n",
    "            x=\"Setsosa\"\n",
    "        elif y_test[i]==1:\n",
    "            x=\"Versicolor\"\n",
    "        else:\n",
    "            x=\"Virginica\"\n",
    "            \n",
    "        print(f'{i+1}.) {str(y_val)} \\t{x} \\t {y_val.argmax().item()}')\n",
    "\n",
    "        #let find out if this result is correct or not\n",
    "        if y_val.argmax().item() ==y_test[i]:\n",
    "            correct +=1\n",
    "print(f'We got the result {correct} predicted correct!')"
   ]
  },
  {
   "cell_type": "code",
   "execution_count": 125,
   "id": "351ebc6f-3457-4dea-ad8b-0d37c023c09f",
   "metadata": {},
   "outputs": [],
   "source": [
    "#feed new data\n",
    "new_iris1= torch.tensor([4.7, 3.2, 1.3, 0.2])"
   ]
  },
  {
   "cell_type": "code",
   "execution_count": 126,
   "id": "11c40e92-154c-4d62-bea8-8b43b457e348",
   "metadata": {},
   "outputs": [
    {
     "name": "stdout",
     "output_type": "stream",
     "text": [
      "tensor([  6.8839,   1.2461, -10.5586])\n"
     ]
    }
   ],
   "source": [
    "with torch.no_grad():\n",
    "    print(model(new_iris1))"
   ]
  },
  {
   "cell_type": "code",
   "execution_count": 127,
   "id": "84c3de49-2cf1-4884-be79-b76dc17a7dd3",
   "metadata": {},
   "outputs": [],
   "source": [
    "#feed another new data\n",
    "new_iris2= torch.tensor([5.8, 3.0, 5.2, 1.6])"
   ]
  },
  {
   "cell_type": "code",
   "execution_count": 128,
   "id": "fc8c7af3-3119-4e85-ba83-c14d1dc332b1",
   "metadata": {},
   "outputs": [
    {
     "name": "stdout",
     "output_type": "stream",
     "text": [
      "tensor([-6.1493,  2.9669,  3.7741])\n"
     ]
    }
   ],
   "source": [
    "with torch.no_grad():\n",
    "    print(model(new_iris2))"
   ]
  },
  {
   "cell_type": "code",
   "execution_count": 129,
   "id": "0a750a62-e384-4673-aa20-ccd0049c2e53",
   "metadata": {},
   "outputs": [],
   "source": [
    "# Save and load NN model\n",
    "torch.save(model.state_dict(),'awe_modle_iris.pt')"
   ]
  },
  {
   "cell_type": "code",
   "execution_count": 130,
   "id": "5f500fc7-c13d-4883-af56-763c53ddd5c3",
   "metadata": {},
   "outputs": [
    {
     "data": {
      "text/plain": [
       "<All keys matched successfully>"
      ]
     },
     "execution_count": 130,
     "metadata": {},
     "output_type": "execute_result"
    }
   ],
   "source": [
    "#load the saved model\n",
    "new_model = Model()\n",
    "new_model.load_state_dict(torch.load('awe_modle_iris.pt'))"
   ]
  },
  {
   "cell_type": "code",
   "execution_count": 131,
   "id": "e93daf47-cb8d-4f47-8d99-8974c259a529",
   "metadata": {},
   "outputs": [],
   "source": [
    "#make sure its load correctly"
   ]
  },
  {
   "cell_type": "code",
   "execution_count": null,
   "id": "0f9038b4-d257-4e24-bbff-fce6b52cb77a",
   "metadata": {},
   "outputs": [
    {
     "data": {
      "text/plain": [
       "Model(\n",
       "  (fc1): Linear(in_features=4, out_features=8, bias=True)\n",
       "  (fc2): Linear(in_features=8, out_features=9, bias=True)\n",
       "  (out): Linear(in_features=9, out_features=3, bias=True)\n",
       ")"
      ]
     },
     "execution_count": 132,
     "metadata": {},
     "output_type": "execute_result"
    }
   ],
   "source": [
    "#ensure it load correctly\n",
    "new_model.eval()\n",
    "\n",
    "#convolutional Neural Network\n",
    "#image filter and image kernel\n",
    "#broken down to the matrix\n",
    "#convolutional layer and RGB"
   ]
  }
 ],
 "metadata": {
  "kernelspec": {
   "display_name": "tf_env",
   "language": "python",
   "name": "python3"
  },
  "language_info": {
   "codemirror_mode": {
    "name": "ipython",
    "version": 3
   },
   "file_extension": ".py",
   "mimetype": "text/x-python",
   "name": "python",
   "nbconvert_exporter": "python",
   "pygments_lexer": "ipython3",
   "version": "3.10.13"
  }
 },
 "nbformat": 4,
 "nbformat_minor": 5
}
